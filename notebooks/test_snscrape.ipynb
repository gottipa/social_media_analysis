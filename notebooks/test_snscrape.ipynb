{
 "cells": [
  {
   "cell_type": "code",
   "execution_count": null,
   "id": "a7c614fe-a51c-41b9-90a3-e83d68a7058c",
   "metadata": {},
   "outputs": [],
   "source": []
  },
  {
   "cell_type": "code",
   "execution_count": 2,
   "id": "ef6ee448-6bb8-4cb7-9c12-5e2e6b7c8f64",
   "metadata": {},
   "outputs": [
    {
     "name": "stdout",
     "output_type": "stream",
     "text": [
      "https://twitter.com/Starling2115/status/1553738451723636738\n"
     ]
    },
    {
     "data": {
      "text/plain": [
       "{'url': 'https://twitter.com/Starling2115/status/1553738451723636738',\n",
       " 'date': datetime.datetime(2022, 7, 31, 13, 44, 48, tzinfo=datetime.timezone.utc),\n",
       " 'content': 'Join our skillup session and get offers from job placement services.\\nKnow more at &gt;&gt; https://t.co/iN69MrNsMg\\nDial for a free live class 9294367306\\n\\n#Hadoop #BigData #dataengineering #cybersecurity #digitalamarketing #cloudcomputing  #careers #hiringnow #hiring2022 #jobs https://t.co/20ceGbDtQ8',\n",
       " 'renderedContent': 'Join our skillup session and get offers from job placement services.\\nKnow more at &gt;&gt; starlingtechinc.com\\nDial for a free live class 9294367306\\n\\n#Hadoop #BigData #dataengineering #cybersecurity #digitalamarketing #cloudcomputing  #careers #hiringnow #hiring2022 #jobs https://t.co/20ceGbDtQ8',\n",
       " 'id': 1553738451723636738,\n",
       " 'user': User(username='Starling2115', id=1428975644558430215, displayname='Starling Tech Inc.', description='Our Services\\n\\nOnline Training \\nIn-Person training \\nCareer Counseling \\nJob Placement \\nMock Interview Session \\nResume Builder', rawDescription='Our Services\\n\\nOnline Training \\nIn-Person training \\nCareer Counseling \\nJob Placement \\nMock Interview Session \\nResume Builder', descriptionUrls=None, verified=False, created=datetime.datetime(2021, 8, 21, 7, 2, 7, tzinfo=datetime.timezone.utc), followersCount=341, friendsCount=39, statusesCount=250, favouritesCount=4, listedCount=0, mediaCount=244, location='Bronx, NY', protected=False, linkUrl='http://www.starlingtechinc.com', linkTcourl='https://t.co/mkbT8wWHnA', profileImageUrl='https://pbs.twimg.com/profile_images/1430010336548163589/RXcPS44v_normal.jpg', profileBannerUrl='https://pbs.twimg.com/profile_banners/1428975644558430215/1631205735', label=None),\n",
       " 'replyCount': 0,\n",
       " 'retweetCount': 0,\n",
       " 'likeCount': 0,\n",
       " 'quoteCount': 0,\n",
       " 'conversationId': 1553738451723636738,\n",
       " 'lang': 'en',\n",
       " 'source': '<a href=\"https://mobile.twitter.com\" rel=\"nofollow\">Twitter Web App</a>',\n",
       " 'sourceUrl': 'https://mobile.twitter.com',\n",
       " 'sourceLabel': 'Twitter Web App',\n",
       " 'outlinks': ['http://www.starlingtechinc.com'],\n",
       " 'tcooutlinks': ['https://t.co/iN69MrNsMg'],\n",
       " 'media': [Photo(previewUrl='https://pbs.twimg.com/media/FY_81j9acAAte98?format=jpg&name=small', fullUrl='https://pbs.twimg.com/media/FY_81j9acAAte98?format=jpg&name=large')],\n",
       " 'retweetedTweet': None,\n",
       " 'quotedTweet': None,\n",
       " 'inReplyToTweetId': None,\n",
       " 'inReplyToUser': None,\n",
       " 'mentionedUsers': None,\n",
       " 'coordinates': None,\n",
       " 'place': None,\n",
       " 'hashtags': ['Hadoop',\n",
       "  'BigData',\n",
       "  'dataengineering',\n",
       "  'cybersecurity',\n",
       "  'digitalamarketing',\n",
       "  'cloudcomputing',\n",
       "  'careers',\n",
       "  'hiringnow',\n",
       "  'hiring2022',\n",
       "  'jobs'],\n",
       " 'cashtags': None}"
      ]
     },
     "execution_count": 2,
     "metadata": {},
     "output_type": "execute_result"
    }
   ],
   "source": [
    "from snscrape.modules.twitter import (\n",
    "    TwitterSearchScraper,\n",
    "    TwitterTweetScraper,\n",
    "    TwitterUserScraper,\n",
    ")\n",
    "\n",
    "scraper = TwitterSearchScraper(\"dataengineering\")\n",
    "\n",
    "for item in scraper.get_items():\n",
    "    print(item)\n",
    "    break\n",
    "\n",
    "item.__dict__"
   ]
  },
  {
   "cell_type": "code",
   "execution_count": 6,
   "id": "f58dec38-95d1-430a-ac25-44b3501117a4",
   "metadata": {},
   "outputs": [
    {
     "name": "stdout",
     "output_type": "stream",
     "text": [
      "https://twitter.com/Pharaoh6ix/status/1553305181156171776\n"
     ]
    },
    {
     "data": {
      "text/plain": [
       "{'url': 'https://twitter.com/Pharaoh6ix/status/1553305181156171776',\n",
       " 'date': datetime.datetime(2022, 7, 30, 9, 3, 8, tzinfo=datetime.timezone.utc),\n",
       " 'content': 'Heated bro, every time I stopped whatever I was doing for half a second I felt myself overheating fr, I had to just keep sitting on the roof and taking in the breeze cause I was legit overheating. Like not a joke bro I woulda had a fucking heat stroke god forbid',\n",
       " 'renderedContent': 'Heated bro, every time I stopped whatever I was doing for half a second I felt myself overheating fr, I had to just keep sitting on the roof and taking in the breeze cause I was legit overheating. Like not a joke bro I woulda had a fucking heat stroke god forbid',\n",
       " 'id': 1553305181156171776,\n",
       " 'user': User(username='Pharaoh6ix', id=902868549324087296, displayname='Du⁶ⁱˣ ʰᵉᵃᵗ ⁿᵃᵗⁱᵒⁿ', description='don’t watch me watch tv. s.i.p. to all the cashport legends please read pinned tweet #HeatCulture #ColtsStrong @betyabread #foreverChico #forZay', rawDescription='don’t watch me watch tv. s.i.p. to all the cashport legends please read pinned tweet #HeatCulture #ColtsStrong @betyabread #foreverChico #forZay', descriptionUrls=None, verified=None, created=datetime.datetime(2017, 8, 30, 12, 20, 11, tzinfo=datetime.timezone.utc), followersCount=140, friendsCount=328, statusesCount=14487, favouritesCount=24522, listedCount=1, mediaCount=852, location='imma be where im at', protected=None, linkUrl='https://youtube.com/channel/UCBfdwZitJvfRBnnTSSRo3ug', linkTcourl='https://t.co/QsaWhqP0Wj', profileImageUrl='https://pbs.twimg.com/profile_images/1539396233378377729/MzVaNPCc_normal.jpg', profileBannerUrl='https://pbs.twimg.com/profile_banners/902868549324087296/1620877016', label=None),\n",
       " 'replyCount': 1,\n",
       " 'retweetCount': 0,\n",
       " 'likeCount': 0,\n",
       " 'quoteCount': 0,\n",
       " 'conversationId': 1553236308763594752,\n",
       " 'lang': 'en',\n",
       " 'source': '<a href=\"http://twitter.com/download/iphone\" rel=\"nofollow\">Twitter for iPhone</a>',\n",
       " 'sourceUrl': 'http://twitter.com/download/iphone',\n",
       " 'sourceLabel': 'Twitter for iPhone',\n",
       " 'outlinks': None,\n",
       " 'tcooutlinks': None,\n",
       " 'media': None,\n",
       " 'retweetedTweet': None,\n",
       " 'quotedTweet': None,\n",
       " 'inReplyToTweetId': 1553305179746967552,\n",
       " 'inReplyToUser': User(username='Pharaoh6ix', id=902868549324087296, displayname='Du⁶ⁱˣ ʰᵉᵃᵗ ⁿᵃᵗⁱᵒⁿ', description='don’t watch me watch tv. s.i.p. to all the cashport legends please read pinned tweet #HeatCulture #ColtsStrong @betyabread #foreverChico #forZay', rawDescription='don’t watch me watch tv. s.i.p. to all the cashport legends please read pinned tweet #HeatCulture #ColtsStrong @betyabread #foreverChico #forZay', descriptionUrls=None, verified=None, created=datetime.datetime(2017, 8, 30, 12, 20, 11, tzinfo=datetime.timezone.utc), followersCount=140, friendsCount=328, statusesCount=14487, favouritesCount=24522, listedCount=1, mediaCount=852, location='imma be where im at', protected=None, linkUrl='https://youtube.com/channel/UCBfdwZitJvfRBnnTSSRo3ug', linkTcourl='https://t.co/QsaWhqP0Wj', profileImageUrl='https://pbs.twimg.com/profile_images/1539396233378377729/MzVaNPCc_normal.jpg', profileBannerUrl='https://pbs.twimg.com/profile_banners/902868549324087296/1620877016', label=None),\n",
       " 'mentionedUsers': None,\n",
       " 'coordinates': None,\n",
       " 'place': None,\n",
       " 'hashtags': None,\n",
       " 'cashtags': None}"
      ]
     },
     "execution_count": 6,
     "metadata": {},
     "output_type": "execute_result"
    }
   ],
   "source": [
    "scraper = TwitterTweetScraper(\"1553305181156171776\")\n",
    "\n",
    "for item in scraper.get_items():\n",
    "    print(item)\n",
    "    break\n",
    "\n",
    "item.__dict__"
   ]
  },
  {
   "cell_type": "code",
   "execution_count": 8,
   "id": "7b9d8864-7623-4176-ba3d-a8764b58f562",
   "metadata": {},
   "outputs": [
    {
     "data": {
      "text/plain": [
       "User(username='Pharaoh6ix', id=902868549324087296, displayname='Du⁶ⁱˣ ʰᵉᵃᵗ ⁿᵃᵗⁱᵒⁿ', description='don’t watch me watch tv. s.i.p. to all the cashport legends please read pinned tweet #HeatCulture #ColtsStrong @betyabread #foreverChico #forZay', rawDescription='don’t watch me watch tv. s.i.p. to all the cashport legends please read pinned tweet #HeatCulture #ColtsStrong @betyabread #foreverChico #forZay', descriptionUrls=None, verified=None, created=datetime.datetime(2017, 8, 30, 12, 20, 11, tzinfo=datetime.timezone.utc), followersCount=140, friendsCount=328, statusesCount=14487, favouritesCount=24522, listedCount=1, mediaCount=852, location='imma be where im at', protected=None, linkUrl='https://youtube.com/channel/UCBfdwZitJvfRBnnTSSRo3ug', linkTcourl='https://t.co/QsaWhqP0Wj', profileImageUrl='https://pbs.twimg.com/profile_images/1539396233378377729/MzVaNPCc_normal.jpg', profileBannerUrl='https://pbs.twimg.com/profile_banners/902868549324087296/1620877016', label=None)"
      ]
     },
     "execution_count": 8,
     "metadata": {},
     "output_type": "execute_result"
    }
   ],
   "source": [
    "item.user"
   ]
  },
  {
   "cell_type": "code",
   "execution_count": 9,
   "id": "6a2e09e8",
   "metadata": {},
   "outputs": [
    {
     "data": {
      "text/plain": [
       "datetime.datetime(2022, 7, 31, 14, 0, 39, 302886, tzinfo=datetime.timezone.utc)"
      ]
     },
     "execution_count": 9,
     "metadata": {},
     "output_type": "execute_result"
    }
   ],
   "source": [
    "from datetime import datetime as dt, timezone as tz\n",
    "\n",
    "dt.now().astimezone(tz.utc)"
   ]
  },
  {
   "cell_type": "code",
   "execution_count": null,
   "id": "a320875f-72e4-49bb-8048-71760e2db964",
   "metadata": {},
   "outputs": [],
   "source": []
  }
 ],
 "metadata": {
  "kernelspec": {
   "display_name": "Python 3 (ipykernel)",
   "language": "python",
   "name": "python3"
  },
  "language_info": {
   "codemirror_mode": {
    "name": "ipython",
    "version": 3
   },
   "file_extension": ".py",
   "mimetype": "text/x-python",
   "name": "python",
   "nbconvert_exporter": "python",
   "pygments_lexer": "ipython3",
   "version": "3.9.13"
  },
  "vscode": {
   "interpreter": {
    "hash": "0bcb3d2749583f9744ca1908632df761bb606a278d7e0c334f267413729cac7c"
   }
  }
 },
 "nbformat": 4,
 "nbformat_minor": 5
}
